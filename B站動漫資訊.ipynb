{
 "cells": [
  {
   "cell_type": "code",
   "execution_count": 130,
   "metadata": {},
   "outputs": [],
   "source": [
    "#動漫排行榜\n",
    "import requests\n",
    "import json\n",
    "url = \"https://api.bilibili.com/pgc/web/rank/list?season_type=1&day=3\"\n",
    "anime = []\n",
    "html = requests.get(url)\n",
    "html.encoding = 'utf8'\n",
    "response = json.loads(html.text)\n",
    "data = response['result']\n",
    "num = 0\n",
    "for item in data['list']:\n",
    "    num += 1\n",
    "    title = item['title'] #片名\n",
    "    anime.append({'第{}名:'.format(num):title})\n",
    "    \n",
    "file = 'bilibili_anime.json'   \n",
    "with open(file,'w',encoding='utf-8') as datasource:\n",
    "    json.dump(anime,datasource,ensure_ascii=False,indent=2)\n",
    "datasource.close()"
   ]
  },
  {
   "cell_type": "code",
   "execution_count": 134,
   "metadata": {},
   "outputs": [],
   "source": [
    "#2020年秋季新番 \n",
    "url = 'https://api.bilibili.com/pgc/web/timeline/v2?season_type=1'\n",
    "html = requests.get(url)\n",
    "response = json.loads(html.text)\n",
    "data = response['result']\n",
    "count = 0\n",
    "anime1 = []\n",
    "for item in data['timeline']:\n",
    "    series = item['episodes']\n",
    "    for i in series:\n",
    "        count += 1\n",
    "        title = i['title']\n",
    "        #print('%d.'%(count),i['title'])\n",
    "        anime1.append({'{}'.format(count):title})\n",
    "file = 'B站動漫新番(2020秋季).json'\n",
    "with open(file,'w',encoding='utf-8') as dataset:\n",
    "    json.dump(anime1,dataset,ensure_ascii=False,indent=2)\n",
    "dataset.close()"
   ]
  }
 ],
 "metadata": {
  "kernelspec": {
   "display_name": "Python 3",
   "language": "python",
   "name": "python3"
  },
  "language_info": {
   "codemirror_mode": {
    "name": "ipython",
    "version": 3
   },
   "file_extension": ".py",
   "mimetype": "text/x-python",
   "name": "python",
   "nbconvert_exporter": "python",
   "pygments_lexer": "ipython3",
   "version": "3.7.6"
  }
 },
 "nbformat": 4,
 "nbformat_minor": 4
}
